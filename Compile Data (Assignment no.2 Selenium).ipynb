{
 "cells": [
  {
   "cell_type": "code",
   "execution_count": 1,
   "id": "105781ac",
   "metadata": {},
   "outputs": [],
   "source": [
    "import selenium\n",
    "import pandas as pd\n",
    "from selenium import webdriver\n",
    "import warnings\n",
    "warnings.filterwarnings('ignore')\n",
    "from selenium.webdriver.common.by import By\n",
    "import time"
   ]
  },
  {
   "cell_type": "code",
   "execution_count": 80,
   "id": "cf52a2cc",
   "metadata": {},
   "outputs": [],
   "source": [
    "# Connect web brouser to the web brouser package \n",
    "driver=webdriver.Chrome(r'C:\\Users\\Shree\\Desktop\\Datatrained\\chromedriver.exe')"
   ]
  },
  {
   "cell_type": "code",
   "execution_count": 3,
   "id": "a3d60579",
   "metadata": {},
   "outputs": [],
   "source": [
    "driver=webdriver.Chrome(r'chromedriver.exe')"
   ]
  },
  {
   "cell_type": "markdown",
   "id": "b0dd426e",
   "metadata": {},
   "source": [
    "# QUESTION 1 AND 2"
   ]
  },
  {
   "cell_type": "code",
   "execution_count": 4,
   "id": "92185539",
   "metadata": {},
   "outputs": [],
   "source": [
    "driver.get('https://www.naukri.com/')"
   ]
  },
  {
   "cell_type": "code",
   "execution_count": 5,
   "id": "29247815",
   "metadata": {},
   "outputs": [],
   "source": [
    "designation=driver.find_element(By.CLASS_NAME,\"suggestor-input \")\n",
    "designation.send_keys('Data Analyst')"
   ]
  },
  {
   "cell_type": "code",
   "execution_count": 6,
   "id": "2da7bef3",
   "metadata": {},
   "outputs": [],
   "source": [
    "location=driver.find_element(By.XPATH,'/html/body/div[1]/div[6]/div/div/div[5]/div/div/div/input')\n",
    "location.send_keys('Bangalore')"
   ]
  },
  {
   "cell_type": "code",
   "execution_count": 7,
   "id": "1f85b37a",
   "metadata": {},
   "outputs": [],
   "source": [
    "search=driver.find_element(By.CLASS_NAME,\"qsbSubmit\")\n",
    "search.click()"
   ]
  },
  {
   "cell_type": "code",
   "execution_count": 8,
   "id": "e728bc38",
   "metadata": {},
   "outputs": [],
   "source": [
    "job_title=[]\n",
    "job_location=[]\n",
    "company_name=[]\n",
    "experience_required=[]"
   ]
  },
  {
   "cell_type": "code",
   "execution_count": 9,
   "id": "75653fb9",
   "metadata": {},
   "outputs": [],
   "source": [
    "title_tag=driver.find_elements(By.XPATH,'//a[@class=\"title ellipsis\"]')\n",
    "for i in title_tag[0:10]:\n",
    "    job_title.append(i.text)\n",
    "\n",
    "companyname= driver.find_elements(By.XPATH,'//a[@class=\"subTitle ellipsis fleft\"]')\n",
    "for i in companyname[0:10]:\n",
    "    company_name.append(i.text)\n",
    "\n",
    "Joblocation=driver.find_elements(By.XPATH,'//span[@class=\"ellipsis fleft locWdth\"]')\n",
    "for i in Joblocation[0:10]:\n",
    "    job_location.append(i.text)\n",
    "    \n",
    "experience=driver.find_elements(By.XPATH,'//span[@class=\"ellipsis fleft expwdth\"]')\n",
    "for i in experience[0:10]:\n",
    "    experience_required.append(i.text)"
   ]
  },
  {
   "cell_type": "code",
   "execution_count": 10,
   "id": "c94f19ba",
   "metadata": {},
   "outputs": [
    {
     "name": "stdout",
     "output_type": "stream",
     "text": [
      "10 10 10 10\n"
     ]
    }
   ],
   "source": [
    "print(len(job_title),len(company_name), len(job_location),len(experience_required))"
   ]
  },
  {
   "cell_type": "code",
   "execution_count": 11,
   "id": "f09cac46",
   "metadata": {},
   "outputs": [
    {
     "data": {
      "text/html": [
       "<div>\n",
       "<style scoped>\n",
       "    .dataframe tbody tr th:only-of-type {\n",
       "        vertical-align: middle;\n",
       "    }\n",
       "\n",
       "    .dataframe tbody tr th {\n",
       "        vertical-align: top;\n",
       "    }\n",
       "\n",
       "    .dataframe thead th {\n",
       "        text-align: right;\n",
       "    }\n",
       "</style>\n",
       "<table border=\"1\" class=\"dataframe\">\n",
       "  <thead>\n",
       "    <tr style=\"text-align: right;\">\n",
       "      <th></th>\n",
       "      <th>Job Title</th>\n",
       "      <th>Company Name</th>\n",
       "      <th>Job Location</th>\n",
       "      <th>Experience required</th>\n",
       "    </tr>\n",
       "  </thead>\n",
       "  <tbody>\n",
       "    <tr>\n",
       "      <th>0</th>\n",
       "      <td>Data Analyst</td>\n",
       "      <td>Spire Technology</td>\n",
       "      <td>Hybrid - Bangalore/Bengaluru</td>\n",
       "      <td>0-0 Yrs</td>\n",
       "    </tr>\n",
       "    <tr>\n",
       "      <th>1</th>\n",
       "      <td>Data Analyst</td>\n",
       "      <td>Novitas Infotech</td>\n",
       "      <td>Permanent Remote</td>\n",
       "      <td>3-8 Yrs</td>\n",
       "    </tr>\n",
       "    <tr>\n",
       "      <th>2</th>\n",
       "      <td>Hiring For Data Analyst</td>\n",
       "      <td>Absolutdata</td>\n",
       "      <td>Hybrid - Bangalore/Bengaluru</td>\n",
       "      <td>4-6 Yrs</td>\n",
       "    </tr>\n",
       "    <tr>\n",
       "      <th>3</th>\n",
       "      <td>Data Analyst- Yulu Energy</td>\n",
       "      <td>Yulu Bikes</td>\n",
       "      <td>Bangalore/Bengaluru</td>\n",
       "      <td>0-1 Yrs</td>\n",
       "    </tr>\n",
       "    <tr>\n",
       "      <th>4</th>\n",
       "      <td>Data Analyst</td>\n",
       "      <td>Entrupy</td>\n",
       "      <td>Bangalore/Bengaluru</td>\n",
       "      <td>1-3 Yrs</td>\n",
       "    </tr>\n",
       "    <tr>\n",
       "      <th>5</th>\n",
       "      <td>Urgently required Data analyst - Microsoft Azure</td>\n",
       "      <td>Golden Future Technologies</td>\n",
       "      <td>Hybrid - Bangalore/Bengaluru, Hyderabad/Secund...</td>\n",
       "      <td>5-10 Yrs</td>\n",
       "    </tr>\n",
       "    <tr>\n",
       "      <th>6</th>\n",
       "      <td>Data Analyst</td>\n",
       "      <td>Quotient Four Technologies</td>\n",
       "      <td>Bangalore/Bengaluru</td>\n",
       "      <td>3-6 Yrs</td>\n",
       "    </tr>\n",
       "    <tr>\n",
       "      <th>7</th>\n",
       "      <td>Data Analyst</td>\n",
       "      <td>Spire Technology</td>\n",
       "      <td>Hybrid - Bangalore/Bengaluru</td>\n",
       "      <td>2-5 Yrs</td>\n",
       "    </tr>\n",
       "    <tr>\n",
       "      <th>8</th>\n",
       "      <td>Data Analyst</td>\n",
       "      <td>Adecco Group</td>\n",
       "      <td>Bangalore/Bengaluru</td>\n",
       "      <td>5-10 Yrs</td>\n",
       "    </tr>\n",
       "    <tr>\n",
       "      <th>9</th>\n",
       "      <td>Data Analyst Databricks</td>\n",
       "      <td>Optum</td>\n",
       "      <td>Bangalore/Bengaluru</td>\n",
       "      <td>4-6 Yrs</td>\n",
       "    </tr>\n",
       "  </tbody>\n",
       "</table>\n",
       "</div>"
      ],
      "text/plain": [
       "                                          Job Title  \\\n",
       "0                                      Data Analyst   \n",
       "1                                      Data Analyst   \n",
       "2                           Hiring For Data Analyst   \n",
       "3                         Data Analyst- Yulu Energy   \n",
       "4                                      Data Analyst   \n",
       "5  Urgently required Data analyst - Microsoft Azure   \n",
       "6                                      Data Analyst   \n",
       "7                                      Data Analyst   \n",
       "8                                      Data Analyst   \n",
       "9                           Data Analyst Databricks   \n",
       "\n",
       "                 Company Name  \\\n",
       "0            Spire Technology   \n",
       "1            Novitas Infotech   \n",
       "2                 Absolutdata   \n",
       "3                  Yulu Bikes   \n",
       "4                     Entrupy   \n",
       "5  Golden Future Technologies   \n",
       "6  Quotient Four Technologies   \n",
       "7            Spire Technology   \n",
       "8                Adecco Group   \n",
       "9                       Optum   \n",
       "\n",
       "                                        Job Location Experience required  \n",
       "0                       Hybrid - Bangalore/Bengaluru             0-0 Yrs  \n",
       "1                                   Permanent Remote             3-8 Yrs  \n",
       "2                       Hybrid - Bangalore/Bengaluru             4-6 Yrs  \n",
       "3                                Bangalore/Bengaluru             0-1 Yrs  \n",
       "4                                Bangalore/Bengaluru             1-3 Yrs  \n",
       "5  Hybrid - Bangalore/Bengaluru, Hyderabad/Secund...            5-10 Yrs  \n",
       "6                                Bangalore/Bengaluru             3-6 Yrs  \n",
       "7                       Hybrid - Bangalore/Bengaluru             2-5 Yrs  \n",
       "8                                Bangalore/Bengaluru            5-10 Yrs  \n",
       "9                                Bangalore/Bengaluru             4-6 Yrs  "
      ]
     },
     "execution_count": 11,
     "metadata": {},
     "output_type": "execute_result"
    }
   ],
   "source": [
    "df1=pd.DataFrame({'Job Title':job_title,'Company Name':company_name, 'Job Location':job_location,'Experience required':experience_required})\n",
    "df1"
   ]
  },
  {
   "cell_type": "markdown",
   "id": "f0bb2ab6",
   "metadata": {},
   "source": [
    "# QUESTION 3"
   ]
  },
  {
   "cell_type": "code",
   "execution_count": 13,
   "id": "fee7768b",
   "metadata": {},
   "outputs": [],
   "source": [
    "driver.get('https://www.naukri.com/')"
   ]
  },
  {
   "cell_type": "code",
   "execution_count": 14,
   "id": "26b3d8cf",
   "metadata": {},
   "outputs": [],
   "source": [
    "designation=driver.find_element(By.XPATH,'//*[@id=\"root\"]/div[6]/div/div/div[1]/div/div/div/input')\n",
    "designation.send_keys('Data Analyst')"
   ]
  },
  {
   "cell_type": "code",
   "execution_count": 15,
   "id": "2c2282cf",
   "metadata": {},
   "outputs": [],
   "source": [
    "location_d=driver.find_element(By.XPATH,'/html/body/div[1]/div[6]/div/div/div[5]/div/div/div/input')\n",
    "location_d.send_keys('Delhi/NCR')"
   ]
  },
  {
   "cell_type": "code",
   "execution_count": 16,
   "id": "70072902",
   "metadata": {},
   "outputs": [],
   "source": [
    "search=driver.find_element(By.CLASS_NAME,'qsbSubmit')\n",
    "search.click()"
   ]
  },
  {
   "cell_type": "code",
   "execution_count": 17,
   "id": "b299fa4d",
   "metadata": {},
   "outputs": [],
   "source": [
    "salary=driver.find_element(By.XPATH,'/html/body/div[1]/div[4]/div/div/section[1]/div[2]/div[4]/div[2]/div[2]/label/p/span[1]')\n",
    "salary.click()"
   ]
  },
  {
   "cell_type": "code",
   "execution_count": 18,
   "id": "1f3777c1",
   "metadata": {},
   "outputs": [],
   "source": [
    "location=[]\n",
    "job_title=[]\n",
    "company_name=[]\n",
    "Experience=[]"
   ]
  },
  {
   "cell_type": "code",
   "execution_count": 19,
   "id": "31c7901e",
   "metadata": {},
   "outputs": [],
   "source": [
    "location_d=driver.find_elements(By.XPATH,'//span[@class=\"ellipsis fleft locWdth\"]')\n",
    "for i in location_d[0:10]:\n",
    "    location.append(i.text)\n",
    "\n",
    "job=driver.find_elements(By.XPATH,'//a[@class=\"title ellipsis\"]')\n",
    "for i in job[0:10]:\n",
    "    job_title.append(i.text)\n",
    "    \n",
    "company=driver.find_elements(By.XPATH,'//a[@class=\"subTitle ellipsis fleft\"]')\n",
    "for i in company[0:10]:\n",
    "    company_name.append(i.text)\n",
    "    \n",
    "Experience1=driver.find_elements(By.XPATH,'//span[@class=\"ellipsis fleft expwdth\"]')\n",
    "for i in Experience1[0:10]:\n",
    "    Experience.append(i.text)"
   ]
  },
  {
   "cell_type": "code",
   "execution_count": 20,
   "id": "ce3daf21",
   "metadata": {},
   "outputs": [
    {
     "name": "stdout",
     "output_type": "stream",
     "text": [
      "10 10 10 10\n"
     ]
    }
   ],
   "source": [
    "print(len(location),len(job_title),len(company_name),len(Experience))"
   ]
  },
  {
   "cell_type": "code",
   "execution_count": 21,
   "id": "6b140c7b",
   "metadata": {},
   "outputs": [
    {
     "data": {
      "text/html": [
       "<div>\n",
       "<style scoped>\n",
       "    .dataframe tbody tr th:only-of-type {\n",
       "        vertical-align: middle;\n",
       "    }\n",
       "\n",
       "    .dataframe tbody tr th {\n",
       "        vertical-align: top;\n",
       "    }\n",
       "\n",
       "    .dataframe thead th {\n",
       "        text-align: right;\n",
       "    }\n",
       "</style>\n",
       "<table border=\"1\" class=\"dataframe\">\n",
       "  <thead>\n",
       "    <tr style=\"text-align: right;\">\n",
       "      <th></th>\n",
       "      <th>Location</th>\n",
       "      <th>Job title</th>\n",
       "      <th>Company</th>\n",
       "      <th>Experience</th>\n",
       "    </tr>\n",
       "  </thead>\n",
       "  <tbody>\n",
       "    <tr>\n",
       "      <th>0</th>\n",
       "      <td>Noida</td>\n",
       "      <td>Data Analyst</td>\n",
       "      <td>Paytm</td>\n",
       "      <td>2-4 Yrs</td>\n",
       "    </tr>\n",
       "    <tr>\n",
       "      <th>1</th>\n",
       "      <td>Delhi / NCR, Gurgaon/Gurugram</td>\n",
       "      <td>Data Analyst</td>\n",
       "      <td>Goibibo</td>\n",
       "      <td>1-4 Yrs</td>\n",
       "    </tr>\n",
       "    <tr>\n",
       "      <th>2</th>\n",
       "      <td>Noida, Ghaziabad, Greater Noida</td>\n",
       "      <td>Data Analyst</td>\n",
       "      <td>ITS The Education Group</td>\n",
       "      <td>1-4 Yrs</td>\n",
       "    </tr>\n",
       "    <tr>\n",
       "      <th>3</th>\n",
       "      <td>Permanent Remote</td>\n",
       "      <td>Data Analyst</td>\n",
       "      <td>Techplus Media</td>\n",
       "      <td>3-5 Yrs</td>\n",
       "    </tr>\n",
       "    <tr>\n",
       "      <th>4</th>\n",
       "      <td>Gurgaon/Gurugram</td>\n",
       "      <td>Data Analyst</td>\n",
       "      <td>GM Analytics Solutions</td>\n",
       "      <td>2-5 Yrs</td>\n",
       "    </tr>\n",
       "    <tr>\n",
       "      <th>5</th>\n",
       "      <td>Delhi / NCR(Sector-63 Gurgaon)</td>\n",
       "      <td>Data Analyst: US MNC in solar power</td>\n",
       "      <td>New Vistas (recruitment Consulting)</td>\n",
       "      <td>2-6 Yrs</td>\n",
       "    </tr>\n",
       "    <tr>\n",
       "      <th>6</th>\n",
       "      <td>New Delhi(Okhla)</td>\n",
       "      <td>Hiring For Data Analyst at Indospirit Okhla</td>\n",
       "      <td>Indospirit</td>\n",
       "      <td>2-7 Yrs</td>\n",
       "    </tr>\n",
       "    <tr>\n",
       "      <th>7</th>\n",
       "      <td>Delhi / NCR, New Delhi, Gurgaon/Gurugram</td>\n",
       "      <td>Data Analyst</td>\n",
       "      <td>P E Analytics Ltd</td>\n",
       "      <td>0-2 Yrs</td>\n",
       "    </tr>\n",
       "    <tr>\n",
       "      <th>8</th>\n",
       "      <td>Delhi / NCR(Azadpur)</td>\n",
       "      <td>Data Analyst</td>\n",
       "      <td>KRM Ayurveda</td>\n",
       "      <td>3-8 Yrs</td>\n",
       "    </tr>\n",
       "    <tr>\n",
       "      <th>9</th>\n",
       "      <td>Delhi / NCR, Kolkata, Indore, Hyderabad/Secund...</td>\n",
       "      <td>Data Analyst</td>\n",
       "      <td>Quickxpert Infotech</td>\n",
       "      <td>0-5 Yrs</td>\n",
       "    </tr>\n",
       "  </tbody>\n",
       "</table>\n",
       "</div>"
      ],
      "text/plain": [
       "                                            Location  \\\n",
       "0                                              Noida   \n",
       "1                      Delhi / NCR, Gurgaon/Gurugram   \n",
       "2                    Noida, Ghaziabad, Greater Noida   \n",
       "3                                   Permanent Remote   \n",
       "4                                   Gurgaon/Gurugram   \n",
       "5                     Delhi / NCR(Sector-63 Gurgaon)   \n",
       "6                                   New Delhi(Okhla)   \n",
       "7           Delhi / NCR, New Delhi, Gurgaon/Gurugram   \n",
       "8                               Delhi / NCR(Azadpur)   \n",
       "9  Delhi / NCR, Kolkata, Indore, Hyderabad/Secund...   \n",
       "\n",
       "                                     Job title  \\\n",
       "0                                 Data Analyst   \n",
       "1                                 Data Analyst   \n",
       "2                                 Data Analyst   \n",
       "3                                 Data Analyst   \n",
       "4                                 Data Analyst   \n",
       "5          Data Analyst: US MNC in solar power   \n",
       "6  Hiring For Data Analyst at Indospirit Okhla   \n",
       "7                                 Data Analyst   \n",
       "8                                 Data Analyst   \n",
       "9                                 Data Analyst   \n",
       "\n",
       "                               Company Experience  \n",
       "0                                Paytm    2-4 Yrs  \n",
       "1                              Goibibo    1-4 Yrs  \n",
       "2              ITS The Education Group    1-4 Yrs  \n",
       "3                       Techplus Media    3-5 Yrs  \n",
       "4               GM Analytics Solutions    2-5 Yrs  \n",
       "5  New Vistas (recruitment Consulting)    2-6 Yrs  \n",
       "6                           Indospirit    2-7 Yrs  \n",
       "7                    P E Analytics Ltd    0-2 Yrs  \n",
       "8                         KRM Ayurveda    3-8 Yrs  \n",
       "9                  Quickxpert Infotech    0-5 Yrs  "
      ]
     },
     "execution_count": 21,
     "metadata": {},
     "output_type": "execute_result"
    }
   ],
   "source": [
    "ddf=pd.DataFrame({'Location':location,'Job title':job_title,'Company':company_name,'Experience':Experience})\n",
    "ddf"
   ]
  },
  {
   "cell_type": "markdown",
   "id": "dfa74fce",
   "metadata": {},
   "source": [
    "# QUESTION 4"
   ]
  },
  {
   "cell_type": "code",
   "execution_count": 70,
   "id": "c48edef1",
   "metadata": {},
   "outputs": [],
   "source": [
    "driver=webdriver.Chrome(r'C:\\Users\\Shree\\Desktop\\Datatrained\\chromedriver.exe')"
   ]
  },
  {
   "cell_type": "code",
   "execution_count": 71,
   "id": "750d9faf",
   "metadata": {},
   "outputs": [],
   "source": [
    "driver.get('https://www.flipkart.com/')"
   ]
  },
  {
   "cell_type": "code",
   "execution_count": 72,
   "id": "f7467f6e",
   "metadata": {},
   "outputs": [],
   "source": [
    "opt=driver.find_element(By.CLASS_NAME,'fk-modal-visible')\n",
    "opt.click()"
   ]
  },
  {
   "cell_type": "code",
   "execution_count": 73,
   "id": "a7c0685a",
   "metadata": {},
   "outputs": [],
   "source": [
    "mob=driver.find_element(By.CLASS_NAME,'fk-modal-visible')\n",
    "mob.send_keys('8975513923')\n",
    "mob.click()"
   ]
  },
  {
   "cell_type": "markdown",
   "id": "34e79c2a",
   "metadata": {},
   "source": [
    "CANCELL THE REGISTRATION BY MANUALLY"
   ]
  },
  {
   "cell_type": "code",
   "execution_count": 74,
   "id": "ee4fb9ac",
   "metadata": {},
   "outputs": [],
   "source": [
    "search=driver.find_element(By.XPATH,'//*[@id=\"container\"]/div/div[1]/div[1]/div[2]/div[2]/form/div/div/input')\n",
    "search.send_keys('sunglasses')"
   ]
  },
  {
   "cell_type": "code",
   "execution_count": 75,
   "id": "a6cf0187",
   "metadata": {},
   "outputs": [],
   "source": [
    "search_c=driver.find_element(By.XPATH,'/html/body/div[1]/div/div[1]/div[1]/div[2]/div[2]/form/div/button')\n",
    "search_c.click()"
   ]
  },
  {
   "cell_type": "code",
   "execution_count": 76,
   "id": "c3f0279a",
   "metadata": {},
   "outputs": [],
   "source": [
    "brand=[]\n",
    "discription=[]\n",
    "price=[]"
   ]
  },
  {
   "cell_type": "code",
   "execution_count": 77,
   "id": "27ce259d",
   "metadata": {},
   "outputs": [],
   "source": [
    "start=0\n",
    "end=3\n",
    "for page in range(start, end):\n",
    "    brand_name=driver.find_elements(By.XPATH,'//div[@class=\"_2WkVRV\"]')\n",
    "    for i in brand_name[:100]:\n",
    "        brand.append(i.text)\n",
    "    next_button=driver.find_element(By.XPATH,'//a[@class=\"ge-49M\"]')\n",
    "    next_button.click()\n",
    "    time.sleep(3)\n",
    "for page in range(start, end):\n",
    "    discription_name=driver.find_elements(By.XPATH,'//div[@class=\"_2WkVRV\"]')\n",
    "    for i in discription_name[:100]:\n",
    "        discription.append(i.text)\n",
    "    next_button=driver.find_element(By.XPATH,'//a[@class=\"ge-49M\"]')\n",
    "    next_button.click()\n",
    "    time.sleep(3)\n",
    "for page in range(start, end):\n",
    "    price_p=driver.find_elements(By.XPATH,'//div[@class=\"_30jeq3\"]')\n",
    "    for i in price_p[:100]:\n",
    "        price.append(i.text)\n",
    "    next_button=driver.find_element(By.XPATH,'//a[@class=\"ge-49M\"]')\n",
    "    next_button.click()\n",
    "    time.sleep(3)"
   ]
  },
  {
   "cell_type": "code",
   "execution_count": 78,
   "id": "5aa5240c",
   "metadata": {},
   "outputs": [
    {
     "name": "stdout",
     "output_type": "stream",
     "text": [
      "120 120 120\n"
     ]
    }
   ],
   "source": [
    "print(len(brand),len(discription), len(price))"
   ]
  },
  {
   "cell_type": "code",
   "execution_count": 79,
   "id": "86e6db0d",
   "metadata": {},
   "outputs": [
    {
     "data": {
      "text/html": [
       "<div>\n",
       "<style scoped>\n",
       "    .dataframe tbody tr th:only-of-type {\n",
       "        vertical-align: middle;\n",
       "    }\n",
       "\n",
       "    .dataframe tbody tr th {\n",
       "        vertical-align: top;\n",
       "    }\n",
       "\n",
       "    .dataframe thead th {\n",
       "        text-align: right;\n",
       "    }\n",
       "</style>\n",
       "<table border=\"1\" class=\"dataframe\">\n",
       "  <thead>\n",
       "    <tr style=\"text-align: right;\">\n",
       "      <th></th>\n",
       "      <th>Brand</th>\n",
       "      <th>Product Discription</th>\n",
       "      <th>Price</th>\n",
       "    </tr>\n",
       "  </thead>\n",
       "  <tbody>\n",
       "    <tr>\n",
       "      <th>0</th>\n",
       "      <td>VINCENT CHASE</td>\n",
       "      <td>SRPM</td>\n",
       "      <td>₹129</td>\n",
       "    </tr>\n",
       "    <tr>\n",
       "      <th>1</th>\n",
       "      <td>VINCENT CHASE</td>\n",
       "      <td>Fastrack</td>\n",
       "      <td>₹999</td>\n",
       "    </tr>\n",
       "    <tr>\n",
       "      <th>2</th>\n",
       "      <td>Fastrack</td>\n",
       "      <td>Fastrack</td>\n",
       "      <td>₹745</td>\n",
       "    </tr>\n",
       "    <tr>\n",
       "      <th>3</th>\n",
       "      <td>Elligator</td>\n",
       "      <td>VINCENT CHASE</td>\n",
       "      <td>₹539</td>\n",
       "    </tr>\n",
       "    <tr>\n",
       "      <th>4</th>\n",
       "      <td>Fastrack</td>\n",
       "      <td>SUNBEE</td>\n",
       "      <td>₹149</td>\n",
       "    </tr>\n",
       "  </tbody>\n",
       "</table>\n",
       "</div>"
      ],
      "text/plain": [
       "           Brand Product Discription Price\n",
       "0  VINCENT CHASE                SRPM  ₹129\n",
       "1  VINCENT CHASE            Fastrack  ₹999\n",
       "2       Fastrack            Fastrack  ₹745\n",
       "3      Elligator       VINCENT CHASE  ₹539\n",
       "4       Fastrack              SUNBEE  ₹149"
      ]
     },
     "execution_count": 79,
     "metadata": {},
     "output_type": "execute_result"
    }
   ],
   "source": [
    "df4=pd.DataFrame({'Brand':brand,'Product Discription':discription,'Price':price})\n",
    "df4.head()"
   ]
  },
  {
   "cell_type": "markdown",
   "id": "ede1b63c",
   "metadata": {},
   "source": [
    "# QUESTION 5"
   ]
  },
  {
   "cell_type": "code",
   "execution_count": 41,
   "id": "a542d286",
   "metadata": {},
   "outputs": [],
   "source": [
    "driver=webdriver.Chrome(r'C:\\Users\\Shree\\Desktop\\Datatrained\\chromedriver.exe')"
   ]
  },
  {
   "cell_type": "code",
   "execution_count": 36,
   "id": "38f45316",
   "metadata": {},
   "outputs": [],
   "source": [
    "driver.get('https://www.flipkart.com/apple-iphone-11-black-64-gb/product-reviews/itm4e5041ba101fd?pid=MOBFWQ6BXGJCEYNY&lid=LSTMOBFWQ6BXGJCEYNYZXSHRJ&market')\n"
   ]
  },
  {
   "cell_type": "code",
   "execution_count": 37,
   "id": "d88e75c9",
   "metadata": {},
   "outputs": [],
   "source": [
    "rating=[]\n",
    "review=[]\n",
    "summary=[]"
   ]
  },
  {
   "cell_type": "code",
   "execution_count": 38,
   "id": "9cd87e53",
   "metadata": {},
   "outputs": [],
   "source": [
    "start=0\n",
    "end=10\n",
    "for page in range(start,end):\n",
    "    rating_1=driver.find_elements(By.XPATH,'//div[@class=\"_3LWZlK _1BLPMq\"]')\n",
    "    for i in rating_1:\n",
    "        rating.append(i.text)\n",
    "    next_button=driver.find_element(By.XPATH,'//a[@class=\"ge-49M\"]')\n",
    "    next_button.click()\n",
    "    time.sleep(3)\n",
    "    review_1=driver.find_elements(By.XPATH,'//p[@class=\"_2-N8zT\"]')\n",
    "    for i in review_1:\n",
    "        review.append(i.text)\n",
    "    next_button=driver.find_element(By.XPATH,'//a[@class=\"ge-49M\"]')\n",
    "    next_button.click()\n",
    "    time.sleep(3)\n",
    "    summary_1=driver.find_elements(By.XPATH,'//div[@class=\"t-ZTKy\"]')\n",
    "    for i in summary_1:\n",
    "        summary.append(i.text)\n",
    "    next_button=driver.find_element(By.XPATH,'//a[@class=\"ge-49M\"]')\n",
    "    next_button.click()\n",
    "    time.sleep(3)"
   ]
  },
  {
   "cell_type": "code",
   "execution_count": 39,
   "id": "4134a97b",
   "metadata": {},
   "outputs": [
    {
     "name": "stdout",
     "output_type": "stream",
     "text": [
      "100 100 100\n"
     ]
    }
   ],
   "source": [
    "print(len(rating),len(review),len(summary))"
   ]
  },
  {
   "cell_type": "code",
   "execution_count": 40,
   "id": "b9c0e5b3",
   "metadata": {},
   "outputs": [
    {
     "data": {
      "text/html": [
       "<div>\n",
       "<style scoped>\n",
       "    .dataframe tbody tr th:only-of-type {\n",
       "        vertical-align: middle;\n",
       "    }\n",
       "\n",
       "    .dataframe tbody tr th {\n",
       "        vertical-align: top;\n",
       "    }\n",
       "\n",
       "    .dataframe thead th {\n",
       "        text-align: right;\n",
       "    }\n",
       "</style>\n",
       "<table border=\"1\" class=\"dataframe\">\n",
       "  <thead>\n",
       "    <tr style=\"text-align: right;\">\n",
       "      <th></th>\n",
       "      <th>Review</th>\n",
       "      <th>Rating Summary</th>\n",
       "      <th>Full Review</th>\n",
       "    </tr>\n",
       "  </thead>\n",
       "  <tbody>\n",
       "    <tr>\n",
       "      <th>0</th>\n",
       "      <td>Simply awesome</td>\n",
       "      <td>5</td>\n",
       "      <td>This is my first iOS phone. I am very happy wi...</td>\n",
       "    </tr>\n",
       "    <tr>\n",
       "      <th>1</th>\n",
       "      <td>Perfect product!</td>\n",
       "      <td>5</td>\n",
       "      <td>Best and amazing product.....phone looks so pr...</td>\n",
       "    </tr>\n",
       "    <tr>\n",
       "      <th>2</th>\n",
       "      <td>Best in the market!</td>\n",
       "      <td>5</td>\n",
       "      <td>i11 is worthy to buy, too much happy with the ...</td>\n",
       "    </tr>\n",
       "    <tr>\n",
       "      <th>3</th>\n",
       "      <td>Value-for-money</td>\n",
       "      <td>4</td>\n",
       "      <td>It’s a must buy who is looking for an upgrade ...</td>\n",
       "    </tr>\n",
       "    <tr>\n",
       "      <th>4</th>\n",
       "      <td>Highly recommended</td>\n",
       "      <td>5</td>\n",
       "      <td>So far it’s been an AMAZING experience coming ...</td>\n",
       "    </tr>\n",
       "    <tr>\n",
       "      <th>...</th>\n",
       "      <td>...</td>\n",
       "      <td>...</td>\n",
       "      <td>...</td>\n",
       "    </tr>\n",
       "    <tr>\n",
       "      <th>95</th>\n",
       "      <td>Value-for-money</td>\n",
       "      <td>5</td>\n",
       "      <td>Previously I was using one plus 3t it was a gr...</td>\n",
       "    </tr>\n",
       "    <tr>\n",
       "      <th>96</th>\n",
       "      <td>Perfect product!</td>\n",
       "      <td>5</td>\n",
       "      <td>Value for money\\n5 star rating\\nExcellent came...</td>\n",
       "    </tr>\n",
       "    <tr>\n",
       "      <th>97</th>\n",
       "      <td>Highly recommended</td>\n",
       "      <td>5</td>\n",
       "      <td>What a camera .....just awesome ..you can feel...</td>\n",
       "    </tr>\n",
       "    <tr>\n",
       "      <th>98</th>\n",
       "      <td>Highly recommended</td>\n",
       "      <td>4</td>\n",
       "      <td>I was using Iphone 6s and also Oneplus 6t. Bot...</td>\n",
       "    </tr>\n",
       "    <tr>\n",
       "      <th>99</th>\n",
       "      <td>Perfect product!</td>\n",
       "      <td>5</td>\n",
       "      <td>Amazing Powerful and Durable Gadget.\\n\\nI’m am...</td>\n",
       "    </tr>\n",
       "  </tbody>\n",
       "</table>\n",
       "<p>100 rows × 3 columns</p>\n",
       "</div>"
      ],
      "text/plain": [
       "                 Review Rating Summary  \\\n",
       "0        Simply awesome              5   \n",
       "1      Perfect product!              5   \n",
       "2   Best in the market!              5   \n",
       "3       Value-for-money              4   \n",
       "4    Highly recommended              5   \n",
       "..                  ...            ...   \n",
       "95      Value-for-money              5   \n",
       "96     Perfect product!              5   \n",
       "97   Highly recommended              5   \n",
       "98   Highly recommended              4   \n",
       "99     Perfect product!              5   \n",
       "\n",
       "                                          Full Review  \n",
       "0   This is my first iOS phone. I am very happy wi...  \n",
       "1   Best and amazing product.....phone looks so pr...  \n",
       "2   i11 is worthy to buy, too much happy with the ...  \n",
       "3   It’s a must buy who is looking for an upgrade ...  \n",
       "4   So far it’s been an AMAZING experience coming ...  \n",
       "..                                                ...  \n",
       "95  Previously I was using one plus 3t it was a gr...  \n",
       "96  Value for money\\n5 star rating\\nExcellent came...  \n",
       "97  What a camera .....just awesome ..you can feel...  \n",
       "98  I was using Iphone 6s and also Oneplus 6t. Bot...  \n",
       "99  Amazing Powerful and Durable Gadget.\\n\\nI’m am...  \n",
       "\n",
       "[100 rows x 3 columns]"
      ]
     },
     "execution_count": 40,
     "metadata": {},
     "output_type": "execute_result"
    }
   ],
   "source": [
    "df5=pd.DataFrame({'Review': review, 'Rating Summary':rating,'Full Review':summary})\n",
    "df5"
   ]
  },
  {
   "cell_type": "markdown",
   "id": "6bf56f4e",
   "metadata": {},
   "source": [
    "# QUESTION 6"
   ]
  },
  {
   "cell_type": "code",
   "execution_count": 81,
   "id": "0db35e96",
   "metadata": {},
   "outputs": [],
   "source": [
    "driver.get('https://www.flipkart.com/search?q=sneakers&otracker=search&otracker1=search&marketplace=FLIPKART&as-show=on&as=off')"
   ]
  },
  {
   "cell_type": "code",
   "execution_count": 82,
   "id": "c24e7898",
   "metadata": {},
   "outputs": [],
   "source": [
    "brand6=[]\n",
    "prize6=[]\n",
    "discription6=[]"
   ]
  },
  {
   "cell_type": "code",
   "execution_count": 83,
   "id": "2793a8dd",
   "metadata": {},
   "outputs": [],
   "source": [
    "start=0\n",
    "end=3\n",
    "for i in range(start,end):\n",
    "    brand=driver.find_elements(By.XPATH,'//div[@class=\"_2WkVRV\"]')\n",
    "    for i in brand:\n",
    "        brand6.append(i.text)\n",
    "    next1=driver.find_element(By.XPATH,'//a[@class=\"_1LKTO3\"]')\n",
    "    next1.click()\n",
    "    time.sleep(2)"
   ]
  },
  {
   "cell_type": "code",
   "execution_count": 84,
   "id": "138bd02e",
   "metadata": {},
   "outputs": [],
   "source": [
    "start=0\n",
    "end=3\n",
    "for i in range(start, end):\n",
    "    prise=driver.find_elements(By.XPATH,'//div[@class=\"_2WkVRV\"]')\n",
    "    for i in prise:\n",
    "        prize6.append(i.text)\n",
    "    next1=driver.find_element(By.XPATH,'//a[@class=\"_1LKTO3\"]')\n",
    "    next1.click()\n",
    "    time.sleep(2)"
   ]
  },
  {
   "cell_type": "code",
   "execution_count": 85,
   "id": "ae852c8d",
   "metadata": {},
   "outputs": [],
   "source": [
    "start=0\n",
    "end=3\n",
    "for i in range(start, end):\n",
    "    prise=driver.find_elements(By.XPATH,'//div[@class=\"_1a8UBa\"]')\n",
    "    for i in prise:\n",
    "        discription6.append(i.text)\n",
    "    next1=driver.find_element(By.XPATH,'//a[@class=\"_1LKTO3\"]')\n",
    "    next1.click()\n",
    "    time.sleep(2)"
   ]
  },
  {
   "cell_type": "code",
   "execution_count": 86,
   "id": "2e2966d3",
   "metadata": {},
   "outputs": [
    {
     "name": "stdout",
     "output_type": "stream",
     "text": [
      "107 105 114\n"
     ]
    }
   ],
   "source": [
    "print(len(brand6),len(prize6),len(discription6))"
   ]
  },
  {
   "cell_type": "code",
   "execution_count": 87,
   "id": "e8d960ab",
   "metadata": {},
   "outputs": [],
   "source": [
    "brand=brand6[:100]\n",
    "prize=prize6[:100]\n",
    "discription=discription[:100]"
   ]
  },
  {
   "cell_type": "code",
   "execution_count": 89,
   "id": "de823d14",
   "metadata": {},
   "outputs": [
    {
     "data": {
      "text/html": [
       "<div>\n",
       "<style scoped>\n",
       "    .dataframe tbody tr th:only-of-type {\n",
       "        vertical-align: middle;\n",
       "    }\n",
       "\n",
       "    .dataframe tbody tr th {\n",
       "        vertical-align: top;\n",
       "    }\n",
       "\n",
       "    .dataframe thead th {\n",
       "        text-align: right;\n",
       "    }\n",
       "</style>\n",
       "<table border=\"1\" class=\"dataframe\">\n",
       "  <thead>\n",
       "    <tr style=\"text-align: right;\">\n",
       "      <th></th>\n",
       "      <th>Brand</th>\n",
       "      <th>Prize</th>\n",
       "      <th>Discription</th>\n",
       "    </tr>\n",
       "  </thead>\n",
       "  <tbody>\n",
       "    <tr>\n",
       "      <th>0</th>\n",
       "      <td>TR</td>\n",
       "      <td>K' Footlance</td>\n",
       "      <td>SRPM</td>\n",
       "    </tr>\n",
       "    <tr>\n",
       "      <th>1</th>\n",
       "      <td>kardam&amp;sons</td>\n",
       "      <td>BIRDE</td>\n",
       "      <td>Fastrack</td>\n",
       "    </tr>\n",
       "    <tr>\n",
       "      <th>2</th>\n",
       "      <td>BRUTON</td>\n",
       "      <td>BERSACHE</td>\n",
       "      <td>Fastrack</td>\n",
       "    </tr>\n",
       "    <tr>\n",
       "      <th>3</th>\n",
       "      <td>BIRDE</td>\n",
       "      <td>kardam&amp;sons</td>\n",
       "      <td>VINCENT CHASE</td>\n",
       "    </tr>\n",
       "    <tr>\n",
       "      <th>4</th>\n",
       "      <td>SFR</td>\n",
       "      <td>Layasa</td>\n",
       "      <td>SUNBEE</td>\n",
       "    </tr>\n",
       "    <tr>\n",
       "      <th>...</th>\n",
       "      <td>...</td>\n",
       "      <td>...</td>\n",
       "      <td>...</td>\n",
       "    </tr>\n",
       "    <tr>\n",
       "      <th>95</th>\n",
       "      <td>Layasa</td>\n",
       "      <td>asian</td>\n",
       "      <td>CART2DEAL</td>\n",
       "    </tr>\n",
       "    <tr>\n",
       "      <th>96</th>\n",
       "      <td>kardam&amp;sons</td>\n",
       "      <td>bacca bucci</td>\n",
       "      <td>Elligator</td>\n",
       "    </tr>\n",
       "    <tr>\n",
       "      <th>97</th>\n",
       "      <td>Layasa</td>\n",
       "      <td>Layasa</td>\n",
       "      <td>ROZZETTA CRAFT</td>\n",
       "    </tr>\n",
       "    <tr>\n",
       "      <th>98</th>\n",
       "      <td>Shozie</td>\n",
       "      <td>Kraasa</td>\n",
       "      <td>NuVew</td>\n",
       "    </tr>\n",
       "    <tr>\n",
       "      <th>99</th>\n",
       "      <td>BIRDE</td>\n",
       "      <td>Sparx</td>\n",
       "      <td>VINCENT CHASE</td>\n",
       "    </tr>\n",
       "  </tbody>\n",
       "</table>\n",
       "<p>100 rows × 3 columns</p>\n",
       "</div>"
      ],
      "text/plain": [
       "          Brand         Prize     Discription\n",
       "0            TR  K' Footlance            SRPM\n",
       "1   kardam&sons         BIRDE        Fastrack\n",
       "2        BRUTON      BERSACHE        Fastrack\n",
       "3         BIRDE   kardam&sons   VINCENT CHASE\n",
       "4           SFR        Layasa          SUNBEE\n",
       "..          ...           ...             ...\n",
       "95       Layasa         asian       CART2DEAL\n",
       "96  kardam&sons   bacca bucci       Elligator\n",
       "97       Layasa        Layasa  ROZZETTA CRAFT\n",
       "98       Shozie        Kraasa           NuVew\n",
       "99        BIRDE         Sparx   VINCENT CHASE\n",
       "\n",
       "[100 rows x 3 columns]"
      ]
     },
     "execution_count": 89,
     "metadata": {},
     "output_type": "execute_result"
    }
   ],
   "source": [
    "df6=pd.DataFrame({'Brand':brand,'Prize':prize,'Discription':discription})\n",
    "df6"
   ]
  },
  {
   "cell_type": "markdown",
   "id": "7150cecf",
   "metadata": {},
   "source": [
    "# QUESTION 7"
   ]
  },
  {
   "cell_type": "code",
   "execution_count": 109,
   "id": "082ea8f4",
   "metadata": {},
   "outputs": [],
   "source": [
    "driver=webdriver.Chrome(r'C:\\Users\\Shree\\Desktop\\Datatrained\\chromedriver.exe')"
   ]
  },
  {
   "cell_type": "code",
   "execution_count": 91,
   "id": "818fc68d",
   "metadata": {},
   "outputs": [],
   "source": [
    "driver.get('https://www.amazon.in/')"
   ]
  },
  {
   "cell_type": "code",
   "execution_count": 92,
   "id": "6a0f0ffa",
   "metadata": {},
   "outputs": [],
   "source": [
    "sea=driver.find_element(By.XPATH,'/html/body/div[1]/header/div/div[1]/div[2]/div/form/div[2]/div[1]/input')\n",
    "sea.send_keys('Laptop')"
   ]
  },
  {
   "cell_type": "code",
   "execution_count": 93,
   "id": "3538e78f",
   "metadata": {},
   "outputs": [],
   "source": [
    "search=driver.find_element(By.XPATH,'/html/body/div[1]/header/div/div[1]/div[2]/div/form/div[3]/div')\n",
    "search.click()"
   ]
  },
  {
   "cell_type": "code",
   "execution_count": 94,
   "id": "4249bf69",
   "metadata": {},
   "outputs": [],
   "source": [
    "search1=driver.find_element(By.XPATH,'/html/body/div[1]/div[2]/div[1]/div[2]/div/div[3]/span/div[1]/div/div/div[6]/ul[2]/li[3]/span/a')\n",
    "search1.click()"
   ]
  },
  {
   "cell_type": "code",
   "execution_count": 95,
   "id": "3ecf1d43",
   "metadata": {},
   "outputs": [],
   "source": [
    "title=[]\n",
    "rating=[]\n",
    "prize=[]\n",
    "title1=driver.find_elements(By.XPATH,'//span[@class=\"a-size-medium a-color-base a-text-normal\"]')\n",
    "for i in title1:\n",
    "    title.append(i.text)\n",
    "rating1=driver.find_elements(By.XPATH,'//span[@class=\"a-size-base\"]')\n",
    "for i in rating1:\n",
    "    rating.append(i.text)\n",
    "prize1=driver.find_elements(By.XPATH,'//span[@class=\"a-price-whole\"]')\n",
    "for i in prize1:\n",
    "    prize.append(i.text)"
   ]
  },
  {
   "cell_type": "code",
   "execution_count": 96,
   "id": "beaf3b61",
   "metadata": {},
   "outputs": [
    {
     "data": {
      "text/plain": [
       "(24, 31, 31)"
      ]
     },
     "execution_count": 96,
     "metadata": {},
     "output_type": "execute_result"
    }
   ],
   "source": [
    "len(title),len(rating),len(prize)"
   ]
  },
  {
   "cell_type": "code",
   "execution_count": 97,
   "id": "63f37bbc",
   "metadata": {},
   "outputs": [],
   "source": [
    "title1=title[:10]\n",
    "rating1=rating[:10]\n",
    "prize1=prize[:10]"
   ]
  },
  {
   "cell_type": "code",
   "execution_count": 98,
   "id": "56dca2b3",
   "metadata": {},
   "outputs": [
    {
     "data": {
      "text/html": [
       "<div>\n",
       "<style scoped>\n",
       "    .dataframe tbody tr th:only-of-type {\n",
       "        vertical-align: middle;\n",
       "    }\n",
       "\n",
       "    .dataframe tbody tr th {\n",
       "        vertical-align: top;\n",
       "    }\n",
       "\n",
       "    .dataframe thead th {\n",
       "        text-align: right;\n",
       "    }\n",
       "</style>\n",
       "<table border=\"1\" class=\"dataframe\">\n",
       "  <thead>\n",
       "    <tr style=\"text-align: right;\">\n",
       "      <th></th>\n",
       "      <th>Title</th>\n",
       "      <th>Rating</th>\n",
       "      <th>Prize</th>\n",
       "    </tr>\n",
       "  </thead>\n",
       "  <tbody>\n",
       "    <tr>\n",
       "      <th>0</th>\n",
       "      <td>Lenovo Ideapad Gaming 3 AMD Ryzen 5 5600H 15.6...</td>\n",
       "      <td>4.3</td>\n",
       "      <td>68,500</td>\n",
       "    </tr>\n",
       "    <tr>\n",
       "      <th>1</th>\n",
       "      <td>Lenovo IdeaPad Gaming 3 Intel Core i5 11th Gen...</td>\n",
       "      <td>4.2</td>\n",
       "      <td>64,990</td>\n",
       "    </tr>\n",
       "    <tr>\n",
       "      <th>2</th>\n",
       "      <td>HP 240 G8 Laptop PC with I3 11th Gen (1115G4)/...</td>\n",
       "      <td>4.6</td>\n",
       "      <td>34,990</td>\n",
       "    </tr>\n",
       "    <tr>\n",
       "      <th>3</th>\n",
       "      <td>Lenovo Ideapad Gaming 3 AMD Ryzen 5 5600H 15.6...</td>\n",
       "      <td>4.4</td>\n",
       "      <td>59,000</td>\n",
       "    </tr>\n",
       "    <tr>\n",
       "      <th>4</th>\n",
       "      <td>Lenovo Legion 5 AMD Ryzen 7 5800H 15.6\" (39.62...</td>\n",
       "      <td>2.9</td>\n",
       "      <td>1,31,990</td>\n",
       "    </tr>\n",
       "    <tr>\n",
       "      <th>5</th>\n",
       "      <td>Lenovo Ideapad Gaming 3 AMD Ryzen 7 5800H 15.6...</td>\n",
       "      <td>4.2</td>\n",
       "      <td>1,05,000</td>\n",
       "    </tr>\n",
       "    <tr>\n",
       "      <th>6</th>\n",
       "      <td>Lenovo Legion 5 Intel Core i7 11th Gen 15.6\" (...</td>\n",
       "      <td>4.1</td>\n",
       "      <td>74,500</td>\n",
       "    </tr>\n",
       "    <tr>\n",
       "      <th>7</th>\n",
       "      <td>Lenovo IdeaPad Gaming 3 Intel Core i5 11th Gen...</td>\n",
       "      <td>5.0</td>\n",
       "      <td>1,17,990</td>\n",
       "    </tr>\n",
       "    <tr>\n",
       "      <th>8</th>\n",
       "      <td>Lenovo Legion 5 AMD Ryzen 7 5800H 15.6\" 300Nit...</td>\n",
       "      <td>3.9</td>\n",
       "      <td>1,33,576</td>\n",
       "    </tr>\n",
       "    <tr>\n",
       "      <th>9</th>\n",
       "      <td>Lenovo Ideapad Slim 5 Pro AMD Ryzen NVIDIA 7 5...</td>\n",
       "      <td>4.3</td>\n",
       "      <td>87,990</td>\n",
       "    </tr>\n",
       "  </tbody>\n",
       "</table>\n",
       "</div>"
      ],
      "text/plain": [
       "                                               Title Rating     Prize\n",
       "0  Lenovo Ideapad Gaming 3 AMD Ryzen 5 5600H 15.6...    4.3    68,500\n",
       "1  Lenovo IdeaPad Gaming 3 Intel Core i5 11th Gen...    4.2    64,990\n",
       "2  HP 240 G8 Laptop PC with I3 11th Gen (1115G4)/...    4.6    34,990\n",
       "3  Lenovo Ideapad Gaming 3 AMD Ryzen 5 5600H 15.6...    4.4    59,000\n",
       "4  Lenovo Legion 5 AMD Ryzen 7 5800H 15.6\" (39.62...    2.9  1,31,990\n",
       "5  Lenovo Ideapad Gaming 3 AMD Ryzen 7 5800H 15.6...    4.2  1,05,000\n",
       "6  Lenovo Legion 5 Intel Core i7 11th Gen 15.6\" (...    4.1    74,500\n",
       "7  Lenovo IdeaPad Gaming 3 Intel Core i5 11th Gen...    5.0  1,17,990\n",
       "8  Lenovo Legion 5 AMD Ryzen 7 5800H 15.6\" 300Nit...    3.9  1,33,576\n",
       "9  Lenovo Ideapad Slim 5 Pro AMD Ryzen NVIDIA 7 5...    4.3    87,990"
      ]
     },
     "execution_count": 98,
     "metadata": {},
     "output_type": "execute_result"
    }
   ],
   "source": [
    "df7=pd.DataFrame({'Title':title1,'Rating':rating1,'Prize':prize1})\n",
    "df7"
   ]
  },
  {
   "cell_type": "markdown",
   "id": "beea0042",
   "metadata": {},
   "source": [
    "# QUESTION 8"
   ]
  },
  {
   "cell_type": "code",
   "execution_count": 104,
   "id": "9964e2cc",
   "metadata": {},
   "outputs": [],
   "source": [
    "driver.get('https://www.azquotes.com/top_quotes.html')"
   ]
  },
  {
   "cell_type": "code",
   "execution_count": 105,
   "id": "7a191c1f",
   "metadata": {},
   "outputs": [],
   "source": [
    "quote=[]\n",
    "Author=[]\n",
    "Type=[]"
   ]
  },
  {
   "cell_type": "code",
   "execution_count": 106,
   "id": "47055c0e",
   "metadata": {},
   "outputs": [],
   "source": [
    "quote1=driver.find_elements(By.XPATH,'//a[@class=\"title\"]')\n",
    "for i in quote1:\n",
    "    quote.append(i.text)\n",
    "\n",
    "author=driver.find_elements(By.XPATH,'//div[@class=\"author\"]')\n",
    "for i in author:\n",
    "    Author.append(i.text)\n",
    "    \n",
    "type_1=driver.find_elements(By.XPATH,'//div[@class=\"tags\"]')\n",
    "for i in type_1:\n",
    "    Type.append(i.text)"
   ]
  },
  {
   "cell_type": "code",
   "execution_count": 107,
   "id": "e2034ca3",
   "metadata": {},
   "outputs": [
    {
     "name": "stdout",
     "output_type": "stream",
     "text": [
      "100 100 100\n"
     ]
    }
   ],
   "source": [
    "print(len(quote),len(Author),len(Type))"
   ]
  },
  {
   "cell_type": "code",
   "execution_count": 108,
   "id": "aeb9aa98",
   "metadata": {},
   "outputs": [
    {
     "data": {
      "text/html": [
       "<div>\n",
       "<style scoped>\n",
       "    .dataframe tbody tr th:only-of-type {\n",
       "        vertical-align: middle;\n",
       "    }\n",
       "\n",
       "    .dataframe tbody tr th {\n",
       "        vertical-align: top;\n",
       "    }\n",
       "\n",
       "    .dataframe thead th {\n",
       "        text-align: right;\n",
       "    }\n",
       "</style>\n",
       "<table border=\"1\" class=\"dataframe\">\n",
       "  <thead>\n",
       "    <tr style=\"text-align: right;\">\n",
       "      <th></th>\n",
       "      <th>Quate</th>\n",
       "      <th>Author</th>\n",
       "      <th>Types of Quote</th>\n",
       "    </tr>\n",
       "  </thead>\n",
       "  <tbody>\n",
       "    <tr>\n",
       "      <th>0</th>\n",
       "      <td>The essence of strategy is choosing what not t...</td>\n",
       "      <td>Michael Porter</td>\n",
       "      <td>Essence, Deep Thought, Transcendentalism</td>\n",
       "    </tr>\n",
       "    <tr>\n",
       "      <th>1</th>\n",
       "      <td>One cannot and must not try to erase the past ...</td>\n",
       "      <td>Golda Meir</td>\n",
       "      <td>Inspiration, Past, Trying</td>\n",
       "    </tr>\n",
       "    <tr>\n",
       "      <th>2</th>\n",
       "      <td>Patriotism means to stand by the country. It d...</td>\n",
       "      <td>Theodore Roosevelt</td>\n",
       "      <td>Country, Peace, War</td>\n",
       "    </tr>\n",
       "    <tr>\n",
       "      <th>3</th>\n",
       "      <td>Death is something inevitable. When a man has ...</td>\n",
       "      <td>Nelson Mandela</td>\n",
       "      <td>Inspirational, Motivational, Death</td>\n",
       "    </tr>\n",
       "    <tr>\n",
       "      <th>4</th>\n",
       "      <td>You have to love a nation that celebrates its ...</td>\n",
       "      <td>Erma Bombeck</td>\n",
       "      <td>4th Of July, Food, Patriotic</td>\n",
       "    </tr>\n",
       "    <tr>\n",
       "      <th>...</th>\n",
       "      <td>...</td>\n",
       "      <td>...</td>\n",
       "      <td>...</td>\n",
       "    </tr>\n",
       "    <tr>\n",
       "      <th>95</th>\n",
       "      <td>When the going gets weird, the weird turn pro.</td>\n",
       "      <td>Hunter S. Thompson</td>\n",
       "      <td>Music, Sports, Hunting</td>\n",
       "    </tr>\n",
       "    <tr>\n",
       "      <th>96</th>\n",
       "      <td>When a train goes through a tunnel and it gets...</td>\n",
       "      <td>Corrie Ten Boom</td>\n",
       "      <td>Trust, Encouraging, Uplifting</td>\n",
       "    </tr>\n",
       "    <tr>\n",
       "      <th>97</th>\n",
       "      <td>If you think you are too small to make a diffe...</td>\n",
       "      <td>Dalai Lama</td>\n",
       "      <td>Inspirational, Funny, Change</td>\n",
       "    </tr>\n",
       "    <tr>\n",
       "      <th>98</th>\n",
       "      <td>God doesn't require us to succeed, he only req...</td>\n",
       "      <td>Mother Teresa</td>\n",
       "      <td>Success, God, Mother</td>\n",
       "    </tr>\n",
       "    <tr>\n",
       "      <th>99</th>\n",
       "      <td>Change your thoughts and you change your world.</td>\n",
       "      <td>Norman Vincent Peale</td>\n",
       "      <td>Inspirational, Motivational, Change</td>\n",
       "    </tr>\n",
       "  </tbody>\n",
       "</table>\n",
       "<p>100 rows × 3 columns</p>\n",
       "</div>"
      ],
      "text/plain": [
       "                                                Quate                Author  \\\n",
       "0   The essence of strategy is choosing what not t...        Michael Porter   \n",
       "1   One cannot and must not try to erase the past ...            Golda Meir   \n",
       "2   Patriotism means to stand by the country. It d...    Theodore Roosevelt   \n",
       "3   Death is something inevitable. When a man has ...        Nelson Mandela   \n",
       "4   You have to love a nation that celebrates its ...          Erma Bombeck   \n",
       "..                                                ...                   ...   \n",
       "95     When the going gets weird, the weird turn pro.    Hunter S. Thompson   \n",
       "96  When a train goes through a tunnel and it gets...       Corrie Ten Boom   \n",
       "97  If you think you are too small to make a diffe...            Dalai Lama   \n",
       "98  God doesn't require us to succeed, he only req...         Mother Teresa   \n",
       "99    Change your thoughts and you change your world.  Norman Vincent Peale   \n",
       "\n",
       "                              Types of Quote  \n",
       "0   Essence, Deep Thought, Transcendentalism  \n",
       "1                  Inspiration, Past, Trying  \n",
       "2                        Country, Peace, War  \n",
       "3         Inspirational, Motivational, Death  \n",
       "4               4th Of July, Food, Patriotic  \n",
       "..                                       ...  \n",
       "95                    Music, Sports, Hunting  \n",
       "96             Trust, Encouraging, Uplifting  \n",
       "97              Inspirational, Funny, Change  \n",
       "98                      Success, God, Mother  \n",
       "99       Inspirational, Motivational, Change  \n",
       "\n",
       "[100 rows x 3 columns]"
      ]
     },
     "execution_count": 108,
     "metadata": {},
     "output_type": "execute_result"
    }
   ],
   "source": [
    "df8=pd.DataFrame({'Quate': quote,'Author':Author, 'Types of Quote':Type})\n",
    "df8"
   ]
  },
  {
   "cell_type": "markdown",
   "id": "886897a3",
   "metadata": {},
   "source": [
    "# QUESTION 9"
   ]
  },
  {
   "cell_type": "code",
   "execution_count": 113,
   "id": "db631926",
   "metadata": {},
   "outputs": [],
   "source": [
    "driver=webdriver.Chrome(r'C:\\Users\\Shree\\Desktop\\Datatrained\\chromedriver.exe')"
   ]
  },
  {
   "cell_type": "code",
   "execution_count": 114,
   "id": "32d3728e",
   "metadata": {},
   "outputs": [],
   "source": [
    "driver.get('https://www.jagranjosh.com/.')"
   ]
  },
  {
   "cell_type": "code",
   "execution_count": 115,
   "id": "cacffa74",
   "metadata": {},
   "outputs": [],
   "source": [
    "search=driver.find_element(By.XPATH,'/html/body/div[1]/div[1]/div/div[1]/div/div[6]/div/div[1]/header/div[3]/ul/li[9]/a')\n",
    "search.click()"
   ]
  },
  {
   "cell_type": "code",
   "execution_count": 116,
   "id": "7582d038",
   "metadata": {},
   "outputs": [],
   "source": [
    "search=driver.find_element(By.XPATH,'/html/body/div[1]/div/div/div[2]/div/div[10]/div/div/ul/li[2]/a')\n",
    "search.click()"
   ]
  },
  {
   "cell_type": "code",
   "execution_count": 117,
   "id": "e39ec5ec",
   "metadata": {},
   "outputs": [],
   "source": [
    "table=[]\n",
    "table1=driver.find_elements(By.XPATH,'//div[@class=\"table-box\"]')\n",
    "for i in table1:\n",
    "    table.append(i.text)"
   ]
  },
  {
   "cell_type": "code",
   "execution_count": 118,
   "id": "24ecf6c7",
   "metadata": {},
   "outputs": [
    {
     "data": {
      "text/plain": [
       "[\"S.N.\\nName\\nBorn-Dead\\nTerm of office\\nRemark\\n1.\\nJawahar Lal Nehru\\n(1889–1964)\\n15 August 1947 to 27 May 1964\\n16 years, 286 days\\nThe first prime minister of India and the longest-serving PM of India, the first to die in office.\\n2.\\nGulzarilal Nanda (Acting)\\n(1898-1998)\\n27 May 1964 to 9 June 1964,\\n13 days\\nFirst acting PM of India\\n3.\\nLal Bahadur Shastri\\n(1904–1966)\\n9 June 1964 to 11 January 1966\\n1 year, 216 days\\nHe has given the slogan of 'Jai Jawan Jai Kisan' during the Indo-Pak war of 1965\\n4. \\nGulzari Lal Nanda  (Acting)\\n(1898-1998)\\n11 January 1966 to 24 January 1966\\n13 days\\n-\\n5.\\nIndira Gandhi\\n(1917–1984)\\n24 January 1966 to 24 March 1977\\n11 years, 59 days\\nFirst female Prime Minister of India\\n6.\\nMorarji Desai\\n(1896–1995)\\n24 March 1977 to  28 July 1979 \\n2 year, 126 days\\nOldest to become PM (81 years old) and first to resign from office\\n7.\\nCharan Singh\\n(1902–1987)\\n28 July 1979 to 14 January 1980\\n170 days\\nOnly PM who did not face the Parliament\\n8.\\nIndira Gandhi\\n(1917–1984)\\n14 January 1980 to 31 October 1984\\n4 years, 291 days\\nThe first lady who served as PM for the second term\\n9.\\nRajiv Gandhi\\n(1944–1991)\\n31 October 1984 to 2 December 1989\\n5 years, 32 days\\nYoungest to become PM (40 years old)\\n10.\\nV. P. Singh\\n(1931–2008)\\n2 December 1989 to 10 November 1990\\n343 days\\nFirst PM to step down after a vote of no confidence\\n11.\\nChandra Shekhar\\n(1927–2007)\\n10 November 1990 to 21 June 1991\\n223 days\\nHe belongs to  Samajwadi Janata Party\\n12.\\nP. V. Narasimha Rao\\n(1921–2004)\\n21 June 1991 to 16 May 1996\\n4 years, 330 days\\nFirst PM from south India\\n13.\\nAtal Bihari Vajpayee\\n(1924- 2018)\\n16 May 1996 to 1 June 1996\\n16 days\\nPM for shortest tenure\\n14.\\nH. D. Deve Gowda\\n(born 1933)\\n1 June 1996 to 21 April 1997\\n324 days\\nHe belongs to  Janata Dal\\n15.\\nInder Kumar Gujral\\n(1919–2012)\\n21 April 1997 to 19 March 1998 \\n332 days\\n------\\n16.\\nAtal Bihari Vajpayee\\n(1924-2018)\\n19 March 1998 to 22 May 2004 \\n6 years, 64 days\\n The first non-congress PM who completed a full term as PM\\n17.\\nManmohan Singh\\n(born 1932)\\n22 May 2004 to 26 May 2014   \\n10 years, 4 days\\n First Sikh PM\\n18.\\nNarendra Modi\\n(born 1950)\\n26 May 2014 - Present\\n4th Prime Minister of India who served two consecutive tenures\",\n",
       " 'List of all Presidents of India List of Current Chief Ministers in India\\nList of Nicknames of Indian Prime Ministers List of Chief Ministers of Karnataka (1947-2021)']"
      ]
     },
     "execution_count": 118,
     "metadata": {},
     "output_type": "execute_result"
    }
   ],
   "source": [
    "table"
   ]
  },
  {
   "cell_type": "markdown",
   "id": "a046833d",
   "metadata": {},
   "source": [
    "# EXPERIMENT NO. 10"
   ]
  },
  {
   "cell_type": "code",
   "execution_count": 110,
   "id": "a0ed36f7",
   "metadata": {},
   "outputs": [],
   "source": [
    "driver.get('https://www.motor1.com/makes/')"
   ]
  },
  {
   "cell_type": "code",
   "execution_count": 111,
   "id": "e65a1adc",
   "metadata": {},
   "outputs": [],
   "source": [
    "data=[]\n",
    "data1=driver.find_elements(By.XPATH,'//a[@class=\"heading-link\"]')\n",
    "for i in data1:\n",
    "    data.append(i.text)"
   ]
  },
  {
   "cell_type": "code",
   "execution_count": 112,
   "id": "667b95a7",
   "metadata": {},
   "outputs": [
    {
     "data": {
      "text/html": [
       "<div>\n",
       "<style scoped>\n",
       "    .dataframe tbody tr th:only-of-type {\n",
       "        vertical-align: middle;\n",
       "    }\n",
       "\n",
       "    .dataframe tbody tr th {\n",
       "        vertical-align: top;\n",
       "    }\n",
       "\n",
       "    .dataframe thead th {\n",
       "        text-align: right;\n",
       "    }\n",
       "</style>\n",
       "<table border=\"1\" class=\"dataframe\">\n",
       "  <thead>\n",
       "    <tr style=\"text-align: right;\">\n",
       "      <th></th>\n",
       "      <th>0</th>\n",
       "    </tr>\n",
       "  </thead>\n",
       "  <tbody>\n",
       "    <tr>\n",
       "      <th>0</th>\n",
       "      <td>Acura</td>\n",
       "    </tr>\n",
       "    <tr>\n",
       "      <th>1</th>\n",
       "      <td>Alfa Romeo</td>\n",
       "    </tr>\n",
       "    <tr>\n",
       "      <th>2</th>\n",
       "      <td>Aston Martin</td>\n",
       "    </tr>\n",
       "    <tr>\n",
       "      <th>3</th>\n",
       "      <td>Audi</td>\n",
       "    </tr>\n",
       "    <tr>\n",
       "      <th>4</th>\n",
       "      <td>Bentley</td>\n",
       "    </tr>\n",
       "    <tr>\n",
       "      <th>5</th>\n",
       "      <td>BMW</td>\n",
       "    </tr>\n",
       "    <tr>\n",
       "      <th>6</th>\n",
       "      <td>Bugatti</td>\n",
       "    </tr>\n",
       "    <tr>\n",
       "      <th>7</th>\n",
       "      <td>Buick</td>\n",
       "    </tr>\n",
       "    <tr>\n",
       "      <th>8</th>\n",
       "      <td>Cadillac</td>\n",
       "    </tr>\n",
       "    <tr>\n",
       "      <th>9</th>\n",
       "      <td>Chevrolet</td>\n",
       "    </tr>\n",
       "    <tr>\n",
       "      <th>10</th>\n",
       "      <td>Chrysler</td>\n",
       "    </tr>\n",
       "    <tr>\n",
       "      <th>11</th>\n",
       "      <td>Dodge</td>\n",
       "    </tr>\n",
       "    <tr>\n",
       "      <th>12</th>\n",
       "      <td>Ferrari</td>\n",
       "    </tr>\n",
       "    <tr>\n",
       "      <th>13</th>\n",
       "      <td>Fiat</td>\n",
       "    </tr>\n",
       "    <tr>\n",
       "      <th>14</th>\n",
       "      <td>Fisker</td>\n",
       "    </tr>\n",
       "    <tr>\n",
       "      <th>15</th>\n",
       "      <td>Ford</td>\n",
       "    </tr>\n",
       "    <tr>\n",
       "      <th>16</th>\n",
       "      <td>Genesis</td>\n",
       "    </tr>\n",
       "    <tr>\n",
       "      <th>17</th>\n",
       "      <td>GMC</td>\n",
       "    </tr>\n",
       "    <tr>\n",
       "      <th>18</th>\n",
       "      <td>Hennessey</td>\n",
       "    </tr>\n",
       "    <tr>\n",
       "      <th>19</th>\n",
       "      <td>Honda</td>\n",
       "    </tr>\n",
       "    <tr>\n",
       "      <th>20</th>\n",
       "      <td>Hyundai</td>\n",
       "    </tr>\n",
       "    <tr>\n",
       "      <th>21</th>\n",
       "      <td>Infiniti</td>\n",
       "    </tr>\n",
       "    <tr>\n",
       "      <th>22</th>\n",
       "      <td>Jaguar</td>\n",
       "    </tr>\n",
       "    <tr>\n",
       "      <th>23</th>\n",
       "      <td>Jeep</td>\n",
       "    </tr>\n",
       "    <tr>\n",
       "      <th>24</th>\n",
       "      <td>Karma</td>\n",
       "    </tr>\n",
       "    <tr>\n",
       "      <th>25</th>\n",
       "      <td>Kia</td>\n",
       "    </tr>\n",
       "    <tr>\n",
       "      <th>26</th>\n",
       "      <td>Koenigsegg</td>\n",
       "    </tr>\n",
       "    <tr>\n",
       "      <th>27</th>\n",
       "      <td>Lamborghini</td>\n",
       "    </tr>\n",
       "    <tr>\n",
       "      <th>28</th>\n",
       "      <td>Land Rover</td>\n",
       "    </tr>\n",
       "    <tr>\n",
       "      <th>29</th>\n",
       "      <td>Lexus</td>\n",
       "    </tr>\n",
       "    <tr>\n",
       "      <th>30</th>\n",
       "      <td>Lincoln</td>\n",
       "    </tr>\n",
       "    <tr>\n",
       "      <th>31</th>\n",
       "      <td>Lotus</td>\n",
       "    </tr>\n",
       "    <tr>\n",
       "      <th>32</th>\n",
       "      <td>Lucid</td>\n",
       "    </tr>\n",
       "    <tr>\n",
       "      <th>33</th>\n",
       "      <td>Maserati</td>\n",
       "    </tr>\n",
       "    <tr>\n",
       "      <th>34</th>\n",
       "      <td>Mazda</td>\n",
       "    </tr>\n",
       "    <tr>\n",
       "      <th>35</th>\n",
       "      <td>McLaren</td>\n",
       "    </tr>\n",
       "    <tr>\n",
       "      <th>36</th>\n",
       "      <td>Mercedes-Benz</td>\n",
       "    </tr>\n",
       "    <tr>\n",
       "      <th>37</th>\n",
       "      <td>Mini</td>\n",
       "    </tr>\n",
       "    <tr>\n",
       "      <th>38</th>\n",
       "      <td>Mitsubishi</td>\n",
       "    </tr>\n",
       "    <tr>\n",
       "      <th>39</th>\n",
       "      <td>Nissan</td>\n",
       "    </tr>\n",
       "    <tr>\n",
       "      <th>40</th>\n",
       "      <td>Pagani</td>\n",
       "    </tr>\n",
       "    <tr>\n",
       "      <th>41</th>\n",
       "      <td>Polestar</td>\n",
       "    </tr>\n",
       "    <tr>\n",
       "      <th>42</th>\n",
       "      <td>Porsche</td>\n",
       "    </tr>\n",
       "    <tr>\n",
       "      <th>43</th>\n",
       "      <td>Ram</td>\n",
       "    </tr>\n",
       "    <tr>\n",
       "      <th>44</th>\n",
       "      <td>Rimac</td>\n",
       "    </tr>\n",
       "    <tr>\n",
       "      <th>45</th>\n",
       "      <td>Rivian</td>\n",
       "    </tr>\n",
       "    <tr>\n",
       "      <th>46</th>\n",
       "      <td>Rolls-Royce</td>\n",
       "    </tr>\n",
       "    <tr>\n",
       "      <th>47</th>\n",
       "      <td>Skoda</td>\n",
       "    </tr>\n",
       "    <tr>\n",
       "      <th>48</th>\n",
       "      <td>Subaru</td>\n",
       "    </tr>\n",
       "    <tr>\n",
       "      <th>49</th>\n",
       "      <td>Tesla</td>\n",
       "    </tr>\n",
       "  </tbody>\n",
       "</table>\n",
       "</div>"
      ],
      "text/plain": [
       "                0\n",
       "0           Acura\n",
       "1      Alfa Romeo\n",
       "2    Aston Martin\n",
       "3            Audi\n",
       "4         Bentley\n",
       "5             BMW\n",
       "6         Bugatti\n",
       "7           Buick\n",
       "8        Cadillac\n",
       "9       Chevrolet\n",
       "10       Chrysler\n",
       "11          Dodge\n",
       "12        Ferrari\n",
       "13           Fiat\n",
       "14         Fisker\n",
       "15           Ford\n",
       "16        Genesis\n",
       "17            GMC\n",
       "18      Hennessey\n",
       "19          Honda\n",
       "20        Hyundai\n",
       "21       Infiniti\n",
       "22         Jaguar\n",
       "23           Jeep\n",
       "24          Karma\n",
       "25            Kia\n",
       "26     Koenigsegg\n",
       "27    Lamborghini\n",
       "28     Land Rover\n",
       "29          Lexus\n",
       "30        Lincoln\n",
       "31          Lotus\n",
       "32          Lucid\n",
       "33       Maserati\n",
       "34          Mazda\n",
       "35        McLaren\n",
       "36  Mercedes-Benz\n",
       "37           Mini\n",
       "38     Mitsubishi\n",
       "39         Nissan\n",
       "40         Pagani\n",
       "41       Polestar\n",
       "42        Porsche\n",
       "43            Ram\n",
       "44          Rimac\n",
       "45         Rivian\n",
       "46    Rolls-Royce\n",
       "47          Skoda\n",
       "48         Subaru\n",
       "49          Tesla"
      ]
     },
     "execution_count": 112,
     "metadata": {},
     "output_type": "execute_result"
    }
   ],
   "source": [
    "df10=pd.DataFrame(data)\n",
    "df10.head(50)"
   ]
  },
  {
   "cell_type": "code",
   "execution_count": null,
   "id": "858dc1d3",
   "metadata": {},
   "outputs": [],
   "source": []
  }
 ],
 "metadata": {
  "kernelspec": {
   "display_name": "Python 3 (ipykernel)",
   "language": "python",
   "name": "python3"
  },
  "language_info": {
   "codemirror_mode": {
    "name": "ipython",
    "version": 3
   },
   "file_extension": ".py",
   "mimetype": "text/x-python",
   "name": "python",
   "nbconvert_exporter": "python",
   "pygments_lexer": "ipython3",
   "version": "3.9.12"
  }
 },
 "nbformat": 4,
 "nbformat_minor": 5
}
